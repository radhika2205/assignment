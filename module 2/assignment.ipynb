{
 "cells": [
  {
   "cell_type": "code",
   "execution_count": 10,
   "id": "27016466-5165-456f-a66e-d943991f7796",
   "metadata": {},
   "outputs": [
    {
     "name": "stdin",
     "output_type": "stream",
     "text": [
      "Enter a positive integer:  5\n"
     ]
    },
    {
     "name": "stdout",
     "output_type": "stream",
     "text": [
      "The sum of the first 5 positive integers is: 15\n"
     ]
    }
   ],
   "source": [
    "# Write a python program to sum of the first n positive integers\n",
    "n = int(input(\"Enter a positive integer: \"))\n",
    "total = n * (n + 1) // 2\n",
    "print(f\"The sum of the first {n} positive integers is: {total}\")"
   ]
  },
  {
   "cell_type": "code",
   "execution_count": 11,
   "id": "47cf0156-87ed-4b3d-a605-96d9d5cd1524",
   "metadata": {},
   "outputs": [
    {
     "name": "stdin",
     "output_type": "stream",
     "text": [
      "Enter the main string:  radhi\n",
      "Enter the substring to count:  d\n"
     ]
    },
    {
     "name": "stdout",
     "output_type": "stream",
     "text": [
      "The substring 'd' occurs 1 times in the string.\n"
     ]
    }
   ],
   "source": [
    "# Write a Python program to count occurrences of a substring in a string\n",
    "mainstring = input(\"Enter the main string: \")\n",
    "substring = input(\"Enter the substring to count: \")\n",
    "count = mainstring.count(substring)\n",
    "print(f\"The substring '{substring}' occurs {count} times in the string.\")"
   ]
  },
  {
   "cell_type": "code",
   "execution_count": 12,
   "id": "c8e0b812-02ee-4954-977a-aeadeb2f6e82",
   "metadata": {},
   "outputs": [
    {
     "name": "stdin",
     "output_type": "stream",
     "text": [
      "Enter a sentence:  good morning\n"
     ]
    },
    {
     "name": "stdout",
     "output_type": "stream",
     "text": [
      "\n",
      "Word occurrences:\n",
      "good: 1\n",
      "morning: 1\n"
     ]
    }
   ],
   "source": [
    "# Write a Python program to count the occurrences of each word in a givensentence.\n",
    "sentence = input(\"Enter a sentence: \")\n",
    "words = sentence.lower().split()\n",
    "wordcount = {}\n",
    "for word in words:\n",
    "    word = word.strip(\".,!?;:'\\\"()\")\n",
    "    wordcount[word] = wordcount.get(word, 0) + 1\n",
    "print(\"\\nWord occurrences:\")\n",
    "for word, count in wordcount.items():\n",
    "    print(f\"{word}: {count}\")"
   ]
  },
  {
   "cell_type": "code",
   "execution_count": 13,
   "id": "115300f9-1aac-4684-9fd1-5e3f0f4d37db",
   "metadata": {},
   "outputs": [
    {
     "name": "stdin",
     "output_type": "stream",
     "text": [
      "Enter first string:  radhi\n",
      "Enter second string:  patel\n"
     ]
    },
    {
     "name": "stdout",
     "output_type": "stream",
     "text": [
      "Result: padhi ratel\n"
     ]
    }
   ],
   "source": [
    "# Write a Python program to get a single string from two given strings, \n",
    "# separatedbya space and swap the first two characters of each string. \n",
    "# Function to swap first two characters of each string and combine them\n",
    "def swap_and_combine(str1, str2):\n",
    "   \n",
    "    if len(str1) < 2 or len(str2) < 2:\n",
    "        return \"Both strings should have at least 2 characters.\"\n",
    "    \n",
    "   \n",
    "    new_str1 = str2[:2] + str1[2:]\n",
    "    new_str2 = str1[:2] + str2[2:]\n",
    "    \n",
    "    # Combine with space\n",
    "    result = new_str1 + \" \" + new_str2\n",
    "    return result\n",
    "\n",
    "# Example usage\n",
    "str1 = input(\"Enter first string: \")\n",
    "str2 = input(\"Enter second string: \")\n",
    "\n",
    "print(\"Result:\", swap_and_combine(str1, str2))\n"
   ]
  },
  {
   "cell_type": "code",
   "execution_count": 14,
   "id": "c4f28952-a106-4821-b876-07409a964307",
   "metadata": {},
   "outputs": [
    {
     "name": "stdin",
     "output_type": "stream",
     "text": [
      "Enter a string:  radhi\n"
     ]
    },
    {
     "name": "stdout",
     "output_type": "stream",
     "text": [
      "Result: radhiing\n"
     ]
    }
   ],
   "source": [
    "# Write a Python program to add 'ing' at the end of a given string (length shouldbeat least 3).\n",
    "# If the given string already ends with 'ing' then add 'ly' instead If thestring length of the given\n",
    "# string is less than 3, leave it unchanged\n",
    "def addword(word):\n",
    "    if len(word) < 3:\n",
    "        return word\n",
    "    elif word.endswith('ing'):\n",
    "        return word + 'ly'\n",
    "    else:\n",
    "        return word + 'ing'\n",
    "\n",
    "# Example usage\n",
    "user_input = input(\"Enter a string: \")\n",
    "result = addword(user_input)\n",
    "print(\"Result:\", result)\n"
   ]
  },
  {
   "cell_type": "code",
   "execution_count": 15,
   "id": "63114247-cc27-4946-8f5a-eca6f687454b",
   "metadata": {},
   "outputs": [
    {
     "name": "stdin",
     "output_type": "stream",
     "text": [
      "Enter a sentence:  good morning radhi\n"
     ]
    },
    {
     "name": "stdout",
     "output_type": "stream",
     "text": [
      "Result: good morning radhi\n"
     ]
    }
   ],
   "source": [
    "# Write a Python program to find the first appearance of the substring 'not' and'poor' from a given string,\n",
    "# if 'not' follows the 'poor', replace the whole 'not'...'poor' substring with 'good'. Return the resulting \n",
    "# string.\n",
    "def replacenotpoor(sentence):\n",
    "    notpos = sentence.find('not')\n",
    "    poorpos = sentence.find('poor')\n",
    "\n",
    "    \n",
    "    if notpos != -1 and poorpos != -1 and notpos < poorpos:\n",
    "        \n",
    "        return sentence[:notpos] + 'good' + sentence[poorpos + 4:]\n",
    "    else:\n",
    "        return sentence\n",
    "\n",
    "# Example usage\n",
    "userinput = input(\"Enter a sentence: \")\n",
    "result = replacenotpoor(userinput)\n",
    "print(\"Result:\", result)\n"
   ]
  },
  {
   "cell_type": "code",
   "execution_count": 16,
   "id": "e46f86d1-bb12-4103-a862-447bf928d8e8",
   "metadata": {},
   "outputs": [
    {
     "name": "stdin",
     "output_type": "stream",
     "text": [
      "Enter first number:  56\n",
      "Enter second number:  78\n"
     ]
    },
    {
     "name": "stdout",
     "output_type": "stream",
     "text": [
      "The GCD of 56 and 78 is 2\n"
     ]
    }
   ],
   "source": [
    "# Program to find Greatest Common Divisor of two numbers. For example, theGCD of 20 and 28 is 4 and the GCD of 98 and 56 is 14\n",
    "def findGCD(a, b):\n",
    "    while b:\n",
    "        a, b = b, a % b\n",
    "    return a\n",
    "\n",
    "# Example usage\n",
    "num1 = int(input(\"Enter first number: \"))\n",
    "num2 = int(input(\"Enter second number: \"))\n",
    "\n",
    "result = findGCD(num1, num2)\n",
    "print(\"The GCD of\", num1, \"and\", num2, \"is\", result)\n"
   ]
  },
  {
   "cell_type": "code",
   "execution_count": 17,
   "id": "ea0ef051-508e-4b22-804b-2170568ec6b0",
   "metadata": {},
   "outputs": [
    {
     "name": "stdout",
     "output_type": "stream",
     "text": [
      "Sublist not found.\n"
     ]
    }
   ],
   "source": [
    "# Write a Python program to check whether a list contains a sublist\n",
    "def issublist(mainlist, sublist):\n",
    "    n, m = len(mainlist), len(sublist)\n",
    "    if m == 0:\n",
    "        return True \n",
    "    for i in range(n - m + 1):\n",
    "        if mainlist[i:i+m] == sublist:\n",
    "            return True\n",
    "    return False\n",
    "\n",
    "# Example usage\n",
    "main = [10, 9, 8, 7, 6]\n",
    "sub = [3, 4]\n",
    "\n",
    "if issublist(main, sub):\n",
    "    print(\"Sublist found!\")\n",
    "else:\n",
    "    print(\"Sublist not found.\")\n"
   ]
  },
  {
   "cell_type": "code",
   "execution_count": 18,
   "id": "231d3064-8e5b-462d-98b0-8d33fcb05ec1",
   "metadata": {},
   "outputs": [
    {
     "name": "stdout",
     "output_type": "stream",
     "text": [
      "Second smallest number is: 1\n"
     ]
    }
   ],
   "source": [
    "# Write a Python program to find the second smallest number in a list.\n",
    "\n",
    "numbers = [10,2,4,1,0,3]\n",
    "\n",
    "\n",
    "uniquenumbers = sorted(set(numbers))\n",
    "\n",
    "\n",
    "if len(uniquenumbers) >= 2:\n",
    "    print(\"Second smallest number is:\", uniquenumbers[1])\n",
    "else:\n",
    "    print(\"List doesn't have enough unique elements.\")\n"
   ]
  },
  {
   "cell_type": "code",
   "execution_count": 19,
   "id": "69d3d34b-939a-4e24-8867-826c72332c20",
   "metadata": {},
   "outputs": [
    {
     "name": "stdout",
     "output_type": "stream",
     "text": [
      "Unique values: [4, 5, 6, 7, 8, 9]\n"
     ]
    }
   ],
   "source": [
    "# Write a Python program to get unique values from a list.\n",
    "\n",
    "mylist = [4,6,7,5,5,8,9]\n",
    "uniquevalues = list(set(mylist))\n",
    "print(\"Unique values:\", uniquevalues)"
   ]
  },
  {
   "cell_type": "code",
   "execution_count": 20,
   "id": "3bd8b016-1353-414e-84f3-ba718194cc51",
   "metadata": {},
   "outputs": [
    {
     "name": "stdout",
     "output_type": "stream",
     "text": [
      "List 1: [5, 10, 15]\n",
      "List 2: ['r', 'a', 'd']\n"
     ]
    }
   ],
   "source": [
    "# Write a Python program to unzip a list of tuples into individual lists.\n",
    "# Sample list of tuples\n",
    "zippedlist = [(5, 'r'), (10, 'a'), (15, 'd')]\n",
    "\n",
    "\n",
    "list1, list2 = zip(*zippedlist)\n",
    "\n",
    "\n",
    "list1 = list(list1)\n",
    "list2 = list(list2)\n",
    "\n",
    "# Output\n",
    "print(\"List 1:\", list1)\n",
    "print(\"List 2:\", list2)\n"
   ]
  },
  {
   "cell_type": "code",
   "execution_count": 21,
   "id": "b1d140f5-7f5d-474b-9153-e11fc34f1ea4",
   "metadata": {},
   "outputs": [
    {
     "name": "stdout",
     "output_type": "stream",
     "text": [
      "Dictionary: {'r': 0, 'a': 1, 'd': 2, 'h': 3, 'i': 4}\n"
     ]
    }
   ],
   "source": [
    "# Write a Python program to convert a list of tuples into a dictionary\n",
    "# Sample list of tuples\n",
    "tuplelist = [('r', 0), ('a', 1), ('d', 2),('h',3),('i',4)]\n",
    "\n",
    "\n",
    "resultdict = dict(tuplelist)\n",
    "\n",
    "# Output\n",
    "print(\"Dictionary:\", resultdict)\n"
   ]
  },
  {
   "cell_type": "code",
   "execution_count": 22,
   "id": "57d6f96e-43ef-4a69-bb2b-b12e32707f92",
   "metadata": {},
   "outputs": [
    {
     "name": "stdout",
     "output_type": "stream",
     "text": [
      "Ascending by value: {'radhi': 0, 'mango': 1, 'ved': 4, 'graphs': 6, 'nisha': 7, 'tirth': 15, 'banana': 20}\n",
      "Descending by value: {'banana': 20, 'tirth': 15, 'nisha': 7, 'graphs': 6, 'ved': 4, 'mango': 1, 'radhi': 0}\n"
     ]
    }
   ],
   "source": [
    "# Write a Python program to sort a dictionary (ascending /descending) by value.\n",
    "# Sample dictionary\n",
    "mydict = {'banana': 20, 'mango':1 , 'graphs': 6, 'radhi': 0,'nisha':7,'tirth':15,'ved':4}\n",
    "\n",
    "\n",
    "ascsorted = dict(sorted(mydict.items(), key=lambda item: item[1]))\n",
    "\n",
    "\n",
    "descsorted = dict(sorted(mydict.items(), key=lambda item: item[1], reverse=True))\n",
    "\n",
    "# Output\n",
    "print(\"Ascending by value:\", ascsorted)\n",
    "print(\"Descending by value:\", descsorted)\n"
   ]
  },
  {
   "cell_type": "code",
   "execution_count": 23,
   "id": "b23b13ff-5860-4e71-a9d4-714f45de1f71",
   "metadata": {},
   "outputs": [
    {
     "name": "stdout",
     "output_type": "stream",
     "text": [
      "Top 3 highest values: {'i': 6, 'd': 5, 'a': 3}\n"
     ]
    }
   ],
   "source": [
    "# .Write a Python program to find the highest 3 values in a dictionary# Sample dictionary\n",
    "mydict = {'r': 1, 'a': 9, 'd': 5, 'h': 3, 'i': 6,'k':2,'a':3}\n",
    "\n",
    "\n",
    "top3 = sorted(mydict.items(), key=lambda item: item[1], reverse=True)[:3]\n",
    "\n",
    "\n",
    "top3dict = dict(top3)\n",
    "\n",
    "# Output\n",
    "print(\"Top 3 highest values:\", top3dict)\n"
   ]
  },
  {
   "cell_type": "code",
   "execution_count": 28,
   "id": "eb12bc0d-ab06-476d-aad8-3deb3646a586",
   "metadata": {},
   "outputs": [
    {
     "name": "stdin",
     "output_type": "stream",
     "text": [
      "Enter number of Fibonacci terms:  2\n"
     ]
    },
    {
     "name": "stdout",
     "output_type": "stream",
     "text": [
      "First few Fibonacci numbers are: 0, 1\n"
     ]
    }
   ],
   "source": [
    "# Given a number n, write a python program to make and print the list of Fibonacci\n",
    "# series up to n. Input : n=7 Hint : first 7 numbers in the series Expected output :\n",
    "# First few Fibonacci numbers are 0, 1, 1, 2, 3, 5, 8, 13\n",
    "def fibonacciseries(n):\n",
    "    fibo = [0, 1]\n",
    "    while len(fibo) < n:\n",
    "        fibo.append(fibo[-1] + fibo[-2])\n",
    "    return fibo[:n]\n",
    "\n",
    "# Example usage\n",
    "n = int(input(\"Enter number of Fibonacci terms: \"))\n",
    "result = fibonacciseries(n)\n",
    "print(\"First few Fibonacci numbers are:\", ', '.join(map(str, result)))\n"
   ]
  },
  {
   "cell_type": "code",
   "execution_count": 24,
   "id": "43ad82b7-20bc-4615-8a28-78e9a349615a",
   "metadata": {},
   "outputs": [
    {
     "name": "stdout",
     "output_type": "stream",
     "text": [
      "1 : 5 , 5 : 2 , 3 : 3 , 4 : 3 , 2 : 4 , "
     ]
    }
   ],
   "source": [
    "# .Counting the frequencies in a list using a dictionary in Python. Input : [1, 1, 1, 5, 5, 3, 1, 3, 3, 1,4, 4, 4, 2, 2, 2, 2]\n",
    "# Expected output : 1 : 5 , 2 : 4 , 3 : 3 , 4 : 3 , 5 : 2\n",
    "# Input list\n",
    "data = [1, 1, 1, 5, 5, 3, 1, 3, 3, 1, 4, 4, 4, 2, 2, 2, 2]\n",
    "\n",
    "\n",
    "frequencies = {}\n",
    "\n",
    "\n",
    "for item in data:\n",
    "    frequencies[item] = frequencies.get(item, 0) + 1\n",
    "\n",
    "\n",
    "for key, value in frequencies.items():\n",
    "    print(f\"{key} : {value}\", end=\" , \")\n"
   ]
  },
  {
   "cell_type": "code",
   "execution_count": 25,
   "id": "64adebd9-6a84-4036-814b-3ad5388c52ee",
   "metadata": {},
   "outputs": [],
   "source": [
    "import math"
   ]
  },
  {
   "cell_type": "code",
   "execution_count": 26,
   "id": "42a196f6-0efe-48c8-849d-dce0558ebbbb",
   "metadata": {},
   "outputs": [
    {
     "name": "stdin",
     "output_type": "stream",
     "text": [
      "Enter number of terms:  45\n"
     ]
    },
    {
     "name": "stdout",
     "output_type": "stream",
     "text": [
      "Sum of odd series: 2.7182818284590455\n",
      "Sum of even series: 2.7182818284590446\n"
     ]
    }
   ],
   "source": [
    "# Write a python program using function to find the sum of odd series andevenseries\n",
    "# Odd series: 12/ 1! +32/ 3! + 52/ 5!+……n\n",
    "# Even series: 22/ 2! + 42/ 4! + 62/ 6!+……n\n",
    "\n",
    "\n",
    "\n",
    "def oddseriessum(n):\n",
    "    total = 0\n",
    "    num = 1\n",
    "    for _ in range(n):\n",
    "        total += (num ** 2) / math.factorial(num)\n",
    "        num += 2\n",
    "    return total\n",
    "\n",
    "\n",
    "def evenseriessum(n):\n",
    "    total = 0\n",
    "    num = 2\n",
    "    for _ in range(n):\n",
    "        total += (num ** 2) / math.factorial(num)\n",
    "        num += 2\n",
    "    return total\n",
    "\n",
    "\n",
    "terms = int(input(\"Enter number of terms: \"))\n",
    "\n",
    "\n",
    "print(\"Sum of odd series:\", oddseriessum(terms))\n",
    "print(\"Sum of even series:\", evenseriessum(terms))\n"
   ]
  },
  {
   "cell_type": "code",
   "execution_count": 27,
   "id": "0ce42d6d-1334-4e8d-91b2-0ededdfe0768",
   "metadata": {},
   "outputs": [
    {
     "name": "stdin",
     "output_type": "stream",
     "text": [
      "Enter a number:  5\n"
     ]
    },
    {
     "name": "stdout",
     "output_type": "stream",
     "text": [
      "Factorial of 5 is: 120\n"
     ]
    }
   ],
   "source": [
    "# Python Program to Find Factorial of Number Using Recursion\n",
    "\n",
    "def factorial(n):\n",
    "    if n == 0 or n == 1:\n",
    "        return 1\n",
    "    else:\n",
    "        return n * factorial(n - 1)\n",
    "\n",
    "\n",
    "num = int(input(\"Enter a number: \"))\n",
    "\n",
    "\n",
    "if num < 0:\n",
    "    print(\"Factorial is not defined for negative numbers.\")\n",
    "else:\n",
    "    print(f\"Factorial of {num} is: {factorial(num)}\")\n"
   ]
  },
  {
   "cell_type": "code",
   "execution_count": 28,
   "id": "c9116e55-57a2-431c-be9e-b4ba953cc410",
   "metadata": {},
   "outputs": [
    {
     "name": "stdout",
     "output_type": "stream",
     "text": [
      "Original List: [10, 15, 12, 33, 54, 74, 85, 81]\n",
      "Unique List: [33, 10, 74, 12, 15, 81, 85, 54]\n"
     ]
    }
   ],
   "source": [
    "# Write a Python function that takes a list and returns a new list with unique\n",
    "# # elements of the first list.\n",
    "\n",
    "def getuniqueelements(inputlist):\n",
    "    return list(set(inputlist))\n",
    "\n",
    "\n",
    "samplelist = [10, 15, 12, 33, 54, 74, 85, 81]\n",
    "uniquelist = getuniqueelements(samplelist)\n",
    "\n",
    "print(\"Original List:\", samplelist)\n",
    "print(\"Unique List:\", uniquelist)\n"
   ]
  },
  {
   "cell_type": "code",
   "execution_count": 31,
   "id": "83da5c58-a0f2-4127-b7ff-5e37089a1536",
   "metadata": {},
   "outputs": [
    {
     "name": "stdin",
     "output_type": "stream",
     "text": [
      "Enter a few words to base your password on:  radhi patel\n"
     ]
    },
    {
     "name": "stdout",
     "output_type": "stream",
     "text": [
      "Generated Strong Password: Radhi59^$patel\n"
     ]
    }
   ],
   "source": [
    "# Mini project :\n",
    "# Problem Statement : Password Generator\n",
    "# Make a program to generate a strong password using the input given by theuser.\n",
    "\n",
    "# To generate a password, randomly take some words from the user input andtheninclude numbers, \n",
    "#  special characters and capital letters to generate the password. Also, keep a check that password\n",
    "#  length is more than 8 characters.\n",
    "\n",
    "import random\n",
    "import string\n",
    "\n",
    "def generate_password(user_input):\n",
    "    words = user_input.split()\n",
    "\n",
    "    \n",
    "    if len(words) < 2:\n",
    "        print(\"Please enter at least two words.\")\n",
    "        return\n",
    "\n",
    "    selected_words = random.sample(words, 2)\n",
    "    \n",
    "    \n",
    "    part1 = selected_words[0].capitalize()\n",
    "    part2 = selected_words[1].lower()\n",
    "\n",
    "   \n",
    "    digits = ''.join(random.choices(string.digits, k=2))\n",
    "    symbols = ''.join(random.choices('!@#$%^&*()', k=2))\n",
    "\n",
    "    # Combine all parts\n",
    "    password = part1 + digits + symbols + part2\n",
    "\n",
    "    \n",
    "    if len(password) < 8:\n",
    "        password += ''.join(random.choices(string.ascii_letters + string.digits, k=(8 - len(password))))\n",
    "\n",
    "    return password\n",
    "\n",
    "\n",
    "user_input = input(\"Enter a few words to base your password on: \")\n",
    "password = generate_password(user_input)\n",
    "\n",
    "if password:\n",
    "    print(\"Generated Strong Password:\", password)\n"
   ]
  },
  {
   "cell_type": "code",
   "execution_count": 32,
   "id": "67661bfc-7d44-476d-8bbd-2f50b4260a17",
   "metadata": {},
   "outputs": [
    {
     "name": "stdin",
     "output_type": "stream",
     "text": [
      "Enter User ID:  radhi_2205\n",
      "Enter Name:  radhi\n",
      "Enter words to base the password on (at least two):  radhi patel\n"
     ]
    },
    {
     "name": "stdout",
     "output_type": "stream",
     "text": [
      "\n",
      "User Created Successfully!\n",
      "User Details (Stored as Tuple): ('radhi_2205', 'radhi', 'Radhi48*@patel')\n",
      " Generated Password: Radhi48*@patel\n"
     ]
    }
   ],
   "source": [
    "# Note: Include Exception handling wherever required. Also, make a ‘User’ classand store the details like user id, \n",
    "# name and password of each user as a tuple.\n",
    "import random\n",
    "import string\n",
    "\n",
    "\n",
    "class User:\n",
    "    def __init__(self, user_id, name, password):\n",
    "        self.user_id = user_id\n",
    "        self.name = name\n",
    "        self.password = password\n",
    "\n",
    "    def get_user_details(self):\n",
    "        return (self.user_id, self.name, self.password)\n",
    "\n",
    "\n",
    "def generate_password(user_input):\n",
    "    try:\n",
    "        words = user_input.split()\n",
    "        if len(words) < 2:\n",
    "            raise ValueError(\"Please enter at least two words.\")\n",
    "\n",
    "        selected_words = random.sample(words, 2)\n",
    "        part1 = selected_words[0].capitalize()\n",
    "        part2 = selected_words[1].lower()\n",
    "\n",
    "        digits = ''.join(random.choices(string.digits, k=2))\n",
    "        symbols = ''.join(random.choices('!@#$%^&*()', k=2))\n",
    "\n",
    "        password = part1 + digits + symbols + part2\n",
    "\n",
    "        if len(password) < 8:\n",
    "            password += ''.join(random.choices(string.ascii_letters + string.digits, k=(8 - len(password))))\n",
    "        \n",
    "        return password\n",
    "    except Exception as e:\n",
    "        print(\"Error:\", e)\n",
    "        return None\n",
    "\n",
    " # program\n",
    "try:\n",
    "    user_id = input(\"Enter User ID: \")\n",
    "    name = input(\"Enter Name: \")\n",
    "    user_input = input(\"Enter words to base the password on (at least two): \")\n",
    "\n",
    "    password = generate_password(user_input)\n",
    "    if password:\n",
    "        user = User(user_id, name, password)\n",
    "        print(\"\\nUser Created Successfully!\")\n",
    "        print(\"User Details (Stored as Tuple):\", user.get_user_details())\n",
    "        print(\" Generated Password:\", password)\n",
    "except Exception as e:\n",
    "    print(\"Unexpected error:\", e)\n"
   ]
  },
  {
   "cell_type": "code",
   "execution_count": null,
   "id": "e56ce296-57f0-4d64-8cf9-14c9b0872dac",
   "metadata": {},
   "outputs": [],
   "source": []
  }
 ],
 "metadata": {
  "kernelspec": {
   "display_name": "Python [conda env:base] *",
   "language": "python",
   "name": "conda-base-py"
  },
  "language_info": {
   "codemirror_mode": {
    "name": "ipython",
    "version": 3
   },
   "file_extension": ".py",
   "mimetype": "text/x-python",
   "name": "python",
   "nbconvert_exporter": "python",
   "pygments_lexer": "ipython3",
   "version": "3.12.7"
  }
 },
 "nbformat": 4,
 "nbformat_minor": 5
}
