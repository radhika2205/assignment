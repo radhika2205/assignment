{
 "cells": [
  {
   "cell_type": "code",
   "execution_count": 3,
   "id": "27016466-5165-456f-a66e-d943991f7796",
   "metadata": {},
   "outputs": [
    {
     "name": "stdin",
     "output_type": "stream",
     "text": [
      "Enter a number:  -3\n"
     ]
    },
    {
     "name": "stdout",
     "output_type": "stream",
     "text": [
      "0\n"
     ]
    }
   ],
   "source": [
    "#1. Write a python program to sum of the first n positive integers\n",
    "\n",
    "\n",
    "n = int(input(\"Enter a number: \"))\n",
    "num = sum(range(1,n+1))\n",
    "print(num)\n"
   ]
  },
  {
   "cell_type": "code",
   "execution_count": 4,
   "id": "47cf0156-87ed-4b3d-a605-96d9d5cd1524",
   "metadata": {},
   "outputs": [
    {
     "name": "stdin",
     "output_type": "stream",
     "text": [
      "enter the string : radhi\n",
      "enter the substring : ra\n"
     ]
    },
    {
     "name": "stdout",
     "output_type": "stream",
     "text": [
      "1\n"
     ]
    }
   ],
   "source": [
    "#2. Write a Python program to count occurrences of a substring in a string\n",
    "string = input(\"enter the string :\")\n",
    "substring = input(\"enter the substring :\")\n",
    "count = string.count(substring)\n",
    "print(count)"
   ]
  },
  {
   "cell_type": "code",
   "execution_count": 6,
   "id": "c8e0b812-02ee-4954-977a-aeadeb2f6e82",
   "metadata": {},
   "outputs": [
    {
     "name": "stdin",
     "output_type": "stream",
     "text": [
      "enter the word : tirth\n",
      "enter the sentence : tirth is a good person\n"
     ]
    },
    {
     "name": "stdout",
     "output_type": "stream",
     "text": [
      "1\n"
     ]
    }
   ],
   "source": [
    "#3. Write a Python program to count the occurrences of each word in a givensentence.\n",
    "word= input(\"enter the word :\")\n",
    "sentence = input(\"enter the sentence :\")\n",
    "count = sentence.count(word)\n",
    "print(count)\n"
   ]
  },
  {
   "cell_type": "code",
   "execution_count": 10,
   "id": "115300f9-1aac-4684-9fd1-5e3f0f4d37db",
   "metadata": {},
   "outputs": [
    {
     "name": "stdin",
     "output_type": "stream",
     "text": [
      "enter the string : yatri\n",
      "enter the string : dave\n"
     ]
    },
    {
     "name": "stdout",
     "output_type": "stream",
     "text": [
      "datri yave\n"
     ]
    }
   ],
   "source": [
    "# 4.Write a Python program to get a single string from two given strings, \n",
    "# separatedbya space and swap the first two characters of each string. \n",
    "str1 = input(\"enter the string :\")\n",
    "str2 = input(\"enter the string :\")\n",
    "\n",
    "new1 = str2[:2] + str1[2:]\n",
    "new2 = str1[:2] + str2[2:]\n",
    "\n",
    "print(new1 + \" \" + new2)"
   ]
  },
  {
   "cell_type": "code",
   "execution_count": 11,
   "id": "c4f28952-a106-4821-b876-07409a964307",
   "metadata": {},
   "outputs": [
    {
     "name": "stdin",
     "output_type": "stream",
     "text": [
      "enter the word : radhi\n"
     ]
    },
    {
     "name": "stdout",
     "output_type": "stream",
     "text": [
      "radhiing\n"
     ]
    }
   ],
   "source": [
    "#5. Write a Python program to add 'ing' at the end of a given string (length shouldbeat least 3).\n",
    "# If the given string already ends with 'ing' then add 'ly' instead If thestring length of the given\n",
    "# string is less than 3, leave it unchanged\n",
    "WORDS = input(\"enter the word :\")\n",
    "if word.endswith('ing'):\n",
    "  print(WORDS + 'ly')\n",
    "elif len(WORDS)>3:\n",
    "  print(WORDS + 'ing')\n",
    "elif len(WORDS)<=3:\n",
    " print(WORDS)"
   ]
  },
  {
   "cell_type": "code",
   "execution_count": 12,
   "id": "63114247-cc27-4946-8f5a-eca6f687454b",
   "metadata": {},
   "outputs": [
    {
     "name": "stdin",
     "output_type": "stream",
     "text": [
      "enter the sentence : radhi is a good person\n"
     ]
    }
   ],
   "source": [
    "#6. Write a Python program to find the first appearance of the substring 'not' and'poor' from a given string,\n",
    "# if 'not' follows the 'poor', replace the whole 'not'...'poor' substring with 'good'. Return the resulting \n",
    "# string.\n",
    "sentence = input(\"enter the sentence :\")\n",
    "\n",
    "not_index = sentence.find('not')\n",
    "poor_index = sentence.find('poor')\n",
    "if not_index != -1 and poor_index != -1 and not_index < poor_index:\n",
    "    print(sentence[:not_index] + 'good' + sentence[poor_index + 4:])\n"
   ]
  },
  {
   "cell_type": "code",
   "execution_count": 13,
   "id": "e46f86d1-bb12-4103-a862-447bf928d8e8",
   "metadata": {},
   "outputs": [],
   "source": [
    "#7. Program to find Greatest Common Divisor of two numbers. For example, theGCD of 20 and 28 is 4 and the GCD of 98 and 56 is 14\n",
    "import math\n",
    "def GCD(a,b):\n",
    "  return math.gcd(a,b)\n"
   ]
  },
  {
   "cell_type": "code",
   "execution_count": 14,
   "id": "5f6e1a48-7fb4-410d-a045-4932ea9ed4d0",
   "metadata": {},
   "outputs": [
    {
     "data": {
      "text/plain": [
       "1"
      ]
     },
     "execution_count": 14,
     "metadata": {},
     "output_type": "execute_result"
    }
   ],
   "source": [
    "GCD(78,67)"
   ]
  },
  {
   "cell_type": "code",
   "execution_count": 15,
   "id": "ea0ef051-508e-4b22-804b-2170568ec6b0",
   "metadata": {},
   "outputs": [],
   "source": [
    "#8. Write a Python program to check whether a list contains a sublist\n",
    "def check_sublist(lst):\n",
    "    for item in lst:\n",
    "        if isinstance(item, list):\n",
    "            return True\n",
    "    return False\n"
   ]
  },
  {
   "cell_type": "code",
   "execution_count": 18,
   "id": "80f197b4-5c3c-4348-b194-d8fd361b4275",
   "metadata": {},
   "outputs": [
    {
     "data": {
      "text/plain": [
       "True"
      ]
     },
     "execution_count": 18,
     "metadata": {},
     "output_type": "execute_result"
    }
   ],
   "source": [
    "check_sublist([7,6,9,[4,6,6]])"
   ]
  },
  {
   "cell_type": "code",
   "execution_count": 13,
   "id": "231d3064-8e5b-462d-98b0-8d33fcb05ec1",
   "metadata": {},
   "outputs": [
    {
     "name": "stdout",
     "output_type": "stream",
     "text": [
      "Second smallest is: 3\n"
     ]
    }
   ],
   "source": [
    "# 9.Write a Python program to find the second smallest number in a list.\n",
    "a = [12,11,10,5,7,3,2]\n",
    "a.sort()\n",
    "a\n",
    "print(\"Second smallest is:\", a[1])"
   ]
  },
  {
   "cell_type": "code",
   "execution_count": 19,
   "id": "69d3d34b-939a-4e24-8867-826c72332c20",
   "metadata": {},
   "outputs": [],
   "source": [
    "#10. Write a Python program to get unique values from a list.\n",
    "def unique_values(list_of_name):\n",
    "    return list(set(list_of_name))"
   ]
  },
  {
   "cell_type": "code",
   "execution_count": 20,
   "id": "ee1e521a-567a-4362-b8bf-0c51db626762",
   "metadata": {},
   "outputs": [
    {
     "data": {
      "text/plain": [
       "['tirth', 'ved', 'radhi']"
      ]
     },
     "execution_count": 20,
     "metadata": {},
     "output_type": "execute_result"
    }
   ],
   "source": [
    "unique_values(['radhi','tirth','ved'])"
   ]
  },
  {
   "cell_type": "code",
   "execution_count": 1,
   "id": "3bd8b016-1353-414e-84f3-ba718194cc51",
   "metadata": {},
   "outputs": [
    {
     "name": "stdout",
     "output_type": "stream",
     "text": [
      "[4, 6, 7]\n",
      "['f', 'b', 't']\n"
     ]
    }
   ],
   "source": [
    "# 11.Write a Python program to unzip a list of tuples into individual lists.\n",
    "# Sample list of tuples\n",
    "num = [(4, 'f'), (6, 'b'), (7, 't')]\n",
    "list1, list2 = map(list, zip(*num))\n",
    "\n",
    "print(list1)  \n",
    "print(list2)  \n"
   ]
  },
  {
   "cell_type": "code",
   "execution_count": 16,
   "id": "b1d140f5-7f5d-474b-9153-e11fc34f1ea4",
   "metadata": {},
   "outputs": [
    {
     "name": "stdout",
     "output_type": "stream",
     "text": [
      "{'x': 1, 'y': 2, 'z': 3}\n"
     ]
    }
   ],
   "source": [
    "#12. Write a Python program to convert a list of tuples into a dictionary\n",
    "# Sample list of tuples\n",
    "a = [(\"x\",1),(\"y\",2),(\"z\",3)]\n",
    "result = dict(a)\n",
    "print(result)\n"
   ]
  },
  {
   "cell_type": "code",
   "execution_count": 7,
   "id": "63116d8e-feec-4417-8d60-1745f556310a",
   "metadata": {},
   "outputs": [
    {
     "name": "stdout",
     "output_type": "stream",
     "text": [
      "ascending: {'radhi': 90, 'tirth': 99, 'ved': 87}\n",
      "descending: {'ved': 87, 'tirth': 99, 'radhi': 90}\n"
     ]
    }
   ],
   "source": [
    "#13. Write a Python program to sort a dictionary (ascending /descending) by value.\n",
    "# Sample dictionary\n",
    "\n",
    "marks = {'radhi': 90,'ved':87,'tirth':99}\n",
    "ASE=dict(sorted(marks.items()))\n",
    "print(\"ascending:\", ASE)\n",
    "DES=dict(sorted(marks.items(),reverse=True))\n",
    "print(\"descending:\", DES)\n",
    "\n",
    "\n",
    "\n",
    "\n",
    "\n"
   ]
  },
  {
   "cell_type": "code",
   "execution_count": 9,
   "id": "77f8d38b-3240-47f8-b105-c381d56c7887",
   "metadata": {},
   "outputs": [
    {
     "data": {
      "text/plain": [
       "[99, 92, 90]"
      ]
     },
     "execution_count": 9,
     "metadata": {},
     "output_type": "execute_result"
    }
   ],
   "source": [
    "# 14. find the highest 3 values in a dictionary\n",
    "marks = {1: 90,2:87,3:92,4:85,5:99}\n",
    "sorted(marks.values(),reverse=True)[:3]\n"
   ]
  },
  {
   "cell_type": "code",
   "execution_count": 10,
   "id": "ac26b0dc-f3e2-4469-9542-efdcf4624e2c",
   "metadata": {},
   "outputs": [
    {
     "name": "stdin",
     "output_type": "stream",
     "text": [
      "enter the number : 3\n"
     ]
    },
    {
     "name": "stdout",
     "output_type": "stream",
     "text": [
      "[0, 1, 1]\n"
     ]
    }
   ],
   "source": [
    "# 15. Given a number n, write a python program to make and print the list of Fibonacci series up to n.\n",
    "fib_list = []\n",
    "a, b = 0, 1\n",
    "n=int(input(\"enter the number :\"))\n",
    "for i in range(n):\n",
    "        fib_list.append(a)\n",
    "        a, b = b, a + b\n",
    "print (fib_list)\n"
   ]
  },
  {
   "cell_type": "code",
   "execution_count": 12,
   "id": "51e05eab-b2aa-4728-8dd8-6265493e4eeb",
   "metadata": {},
   "outputs": [],
   "source": [
    "# 16.Counting the frequencies in a list using a dictionary in Python.\n",
    "def count_frequencies(input_list):\n",
    "  frequency_dict = {}\n",
    "  for item in input_list:\n",
    "    if item in frequency_dict:\n",
    "      frequency_dict[item] += 1\n",
    "    else:\n",
    "      frequency_dict[item] = 1\n",
    "  return frequency_dict\n"
   ]
  },
  {
   "cell_type": "code",
   "execution_count": 13,
   "id": "f27be7f4-2b00-451a-b436-b6bbde0e5422",
   "metadata": {},
   "outputs": [
    {
     "name": "stdout",
     "output_type": "stream",
     "text": [
      "{1: 2, 2: 3, 3: 4, 4: 1}\n"
     ]
    }
   ],
   "source": [
    "my_list = [1, 2, 2, 3, 1, 4, 2, 3, 3, 3]\n",
    "frequencies = count_frequencies(my_list)\n",
    "print(frequencies)"
   ]
  },
  {
   "cell_type": "code",
   "execution_count": 33,
   "id": "810c1145-d1d4-448e-b29d-c279e229e61e",
   "metadata": {},
   "outputs": [],
   "source": [
    "# 17. using function to find the sum of odd series and even series\n",
    "#Odd series: 12/ 1! +32/ 3! + 52/ 5!+……n\n",
    "#Even series: 22/ 2! + 42/ 4! + 62/ 6!+……nBBBBBBB\n",
    "import math as math\n",
    "def sum_of_series(n):\n",
    "  odd_sum = 0\n",
    "  even_sum = 0\n",
    "  for i in range(1, n+1):\n",
    "    if i % 2 == 1:\n",
    "      odd_sum += i**2 / math.factorial(i)\n",
    "    else:\n",
    "      even_sum += i**2 / math.factorial(i)\n",
    "  return odd_sum, even_sum"
   ]
  },
  {
   "cell_type": "code",
   "execution_count": 35,
   "id": "c0d73f18-1320-4bb6-bdd5-3e65af09d5b2",
   "metadata": {},
   "outputs": [
    {
     "data": {
      "text/plain": [
       "(2.718055555555556, 2.7166666666666663)"
      ]
     },
     "execution_count": 35,
     "metadata": {},
     "output_type": "execute_result"
    }
   ],
   "source": [
    "sum_of_series(7)"
   ]
  },
  {
   "cell_type": "code",
   "execution_count": 36,
   "id": "0ce42d6d-1334-4e8d-91b2-0ededdfe0768",
   "metadata": {},
   "outputs": [],
   "source": [
    "# 18.Python Program to Find Factorial of Number Using Recursion\n",
    "def factorial(n):\n",
    "  if n==0:\n",
    "    return 1\n",
    "  elif n==1:\n",
    "    return 1\n",
    "  else:\n",
    "    return n*factorial(n-1)\n",
    "\n"
   ]
  },
  {
   "cell_type": "code",
   "execution_count": 37,
   "id": "a2d42aa8-08e7-4cbf-9bbe-18f7d7894112",
   "metadata": {},
   "outputs": [
    {
     "data": {
      "text/plain": [
       "5040"
      ]
     },
     "execution_count": 37,
     "metadata": {},
     "output_type": "execute_result"
    }
   ],
   "source": [
    "factorial(7)"
   ]
  },
  {
   "cell_type": "code",
   "execution_count": 38,
   "id": "c9116e55-57a2-431c-be9e-b4ba953cc410",
   "metadata": {},
   "outputs": [],
   "source": [
    "#19. Write a Python function that takes a list and returns a new list with unique\n",
    "# # elements of the first list.\n",
    "\n",
    "def unique_elements(list_of_name):\n",
    "    return list(set(list_of_name))\n"
   ]
  },
  {
   "cell_type": "code",
   "execution_count": 39,
   "id": "9d10b9f3-9b6b-40a6-be0b-9a6d1221b4db",
   "metadata": {},
   "outputs": [
    {
     "data": {
      "text/plain": [
       "['tirth', 'radhi']"
      ]
     },
     "execution_count": 39,
     "metadata": {},
     "output_type": "execute_result"
    }
   ],
   "source": [
    "unique_elements([\"radhi\",\"tirth\",\"radhi\"])"
   ]
  },
  {
   "cell_type": "code",
   "execution_count": 41,
   "id": "83da5c58-a0f2-4127-b7ff-5e37089a1536",
   "metadata": {},
   "outputs": [
    {
     "name": "stdin",
     "output_type": "stream",
     "text": [
      "your password:  radhi\n"
     ]
    },
    {
     "name": "stdout",
     "output_type": "stream",
     "text": [
      "your storng password:  Radhi93#\n"
     ]
    }
   ],
   "source": [
    "# 20.Mini project :\n",
    "# Problem Statement : Password Generator\n",
    "\n",
    "import random\n",
    "user_input = input(\"your password: \")\n",
    "words = user_input.split()\n",
    "if len(words) >= 2:\n",
    "    chosen = random.sample(words, 2)\n",
    "else:\n",
    "    chosen = words\n",
    "new_words = [word.capitalize() for word in chosen]\n",
    "base = \"\"\n",
    "for word in new_words:\n",
    "    base = base + word\n",
    "numbers = str(random.randint(10, 99))         \n",
    "symbols = random.choice(['@', '#', '$', '%']) \n",
    "password = base + numbers + symbols\n",
    "while len(password) < 8:\n",
    "    password += random.choice('abcxyz123')\n",
    "print(\"your storng password: \", password)\n"
   ]
  },
  {
   "cell_type": "code",
   "execution_count": null,
   "id": "67661bfc-7d44-476d-8bbd-2f50b4260a17",
   "metadata": {},
   "outputs": [],
   "source": []
  },
  {
   "cell_type": "code",
   "execution_count": null,
   "id": "e56ce296-57f0-4d64-8cf9-14c9b0872dac",
   "metadata": {},
   "outputs": [],
   "source": []
  },
  {
   "cell_type": "markdown",
   "id": "32240844-7c4a-4343-8cc1-7acfa93a15e4",
   "metadata": {},
   "source": [
    "# "
   ]
  }
 ],
 "metadata": {
  "kernelspec": {
   "display_name": "Python [conda env:base] *",
   "language": "python",
   "name": "conda-base-py"
  },
  "language_info": {
   "codemirror_mode": {
    "name": "ipython",
    "version": 3
   },
   "file_extension": ".py",
   "mimetype": "text/x-python",
   "name": "python",
   "nbconvert_exporter": "python",
   "pygments_lexer": "ipython3",
   "version": "3.12.7"
  }
 },
 "nbformat": 4,
 "nbformat_minor": 5
}
